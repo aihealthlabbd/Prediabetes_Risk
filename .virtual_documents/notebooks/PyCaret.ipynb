import numpy as np
import pandas as pd
import matplotlib.pyplot as plt
import seaborn as sns
from imblearn.over_sampling import SMOTE
from sklearn.impute import SimpleImputer
from sklearn.preprocessing import LabelEncoder, StandardScaler
import warnings
warnings.filterwarnings('ignore')


# Load Data
data = pd.read_excel('../data/Preprocessed_Diabetes_Data.xlsx')
data.head()


# info
data.info()


# Visualize the distribution of the 'target' column
sns.countplot(x=data['Risk_Category'], palette="viridis")
plt.title("Distribution of Risk Category")
plt.xlabel("Attended ANC Early (0 = Low, 1 = High)")
plt.ylabel("Count")

# Save the plot as a PDF
plt.savefig('../figures/early_anc_distribution.pdf', format='pdf')
plt.show()


# Drop rows with missing essential features
data = data.dropna(subset=['Height_cm', 'Weight_kg'])


# Encode categorical variables
categorical_cols = ['Age', 'Gender', 'Marital_Status', 'Family_Income', 
                    'Education', 'Occupation', 'Residence', 'District']

for col in categorical_cols:
    data[col] = LabelEncoder().fit_transform(data[col].astype(str))


# Define features and target
features = ['Age', 'Gender', 'Marital_Status', 'Family_Income', 'Education',
            'Occupation', 'Residence', 'District', 'Gestational_Diabetes',
            'Family_History', 'High_Blood_Pressure', 'Physically_Active',
            'Height_cm', 'Weight_kg']

X = data[features]
y = data['Risk_Category'].map({'Low Risk (<5)': 0, 'High Risk (≥5)': 1})


# Handle missing values with imputation (mean strategy)
imputer = SimpleImputer(strategy='mean')
X = pd.DataFrame(imputer.fit_transform(X), columns=features)


# Apply SMOTE to handle imbalance
smote = SMOTE(random_state=42)
X_smote, y_smote = smote.fit_resample(X, y)


# Combined Visualization Before and After SMOTE
fig, ax = plt.subplots(1, 1, figsize=(10, 6))
counts_before = y.value_counts()
counts_after = pd.Series(y_smote).value_counts()
bars = ax.bar(['Low (Before)', 'High (Before)', 'Low (After)', 'High (After)'],
              [counts_before[0], counts_before[1], counts_after[0], counts_after[1]],
              color=['green', 'orange', 'green', 'orange'])

# Annotate the bars with counts
for bar in bars:
    height = bar.get_height()
    ax.text(bar.get_x() + bar.get_width() / 2, height, f'{int(height)}', ha='center', va='bottom')

ax.set_title('Class Distribution Before and After SMOTE Balancing')
ax.set_ylabel('Count')
plt.savefig("../figures/SMOTE.pdf")
plt.show()


data.columns


# Combine back into a single DataFrame
data_smote = pd.DataFrame(X_smote, columns=X.columns)
data_smote['Risk_Category'] = y_smote
data_smote.head()


# export smote data
data_smote.to_excel('../data/Pre_Diabetes_SMOTE.xlsx', index=False)


# import pycaret classification and init setup
from pycaret.classification import *
clf = setup(data = data_smote, target = 'Risk_Category',
          session_id = 123, train_size=0.8)


!pip install --upgrade pycaret
